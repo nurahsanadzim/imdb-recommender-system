{
  "nbformat": 4,
  "nbformat_minor": 0,
  "metadata": {
    "colab": {
      "name": "imdb recommender system",
      "provenance": [],
      "collapsed_sections": [],
      "authorship_tag": "ABX9TyPMZcxTyGTitlA3KRak2jzZ",
      "include_colab_link": true
    },
    "kernelspec": {
      "name": "python3",
      "display_name": "Python 3"
    }
  },
  "cells": [
    {
      "cell_type": "markdown",
      "metadata": {
        "id": "view-in-github",
        "colab_type": "text"
      },
      "source": [
        "<a href=\"https://colab.research.google.com/github/nurahsanadzim/imdb-recommender-system/blob/main/imdb_recommender_system.ipynb\" target=\"_parent\"><img src=\"https://colab.research.google.com/assets/colab-badge.svg\" alt=\"Open In Colab\"/></a>"
      ]
    },
    {
      "cell_type": "code",
      "metadata": {
        "id": "50lpCsURAD7e"
      },
      "source": [
        "import pandas as pd\n",
        "import numpy as np\n",
        "\n",
        "movie_df = pd.read_csv('https://storage.googleapis.com/dqlab-dataset/title.basics.tsv', sep='\\t')\n",
        "rating_df = pd.read_csv('https://storage.googleapis.com/dqlab-dataset/title.ratings.tsv', sep='\\t')"
      ],
      "execution_count": 1,
      "outputs": []
    },
    {
      "cell_type": "code",
      "metadata": {
        "colab": {
          "base_uri": "https://localhost:8080/",
          "height": 206
        },
        "id": "xG4ZwS-NBCXV",
        "outputId": "2c94134c-667c-4696-a5a2-1fb94fc83a15"
      },
      "source": [
        "rating_df.head()"
      ],
      "execution_count": 2,
      "outputs": [
        {
          "output_type": "execute_result",
          "data": {
            "text/html": [
              "<div>\n",
              "<style scoped>\n",
              "    .dataframe tbody tr th:only-of-type {\n",
              "        vertical-align: middle;\n",
              "    }\n",
              "\n",
              "    .dataframe tbody tr th {\n",
              "        vertical-align: top;\n",
              "    }\n",
              "\n",
              "    .dataframe thead th {\n",
              "        text-align: right;\n",
              "    }\n",
              "</style>\n",
              "<table border=\"1\" class=\"dataframe\">\n",
              "  <thead>\n",
              "    <tr style=\"text-align: right;\">\n",
              "      <th></th>\n",
              "      <th>tconst</th>\n",
              "      <th>averageRating</th>\n",
              "      <th>numVotes</th>\n",
              "    </tr>\n",
              "  </thead>\n",
              "  <tbody>\n",
              "    <tr>\n",
              "      <th>0</th>\n",
              "      <td>tt0000001</td>\n",
              "      <td>5.6</td>\n",
              "      <td>1608</td>\n",
              "    </tr>\n",
              "    <tr>\n",
              "      <th>1</th>\n",
              "      <td>tt0000002</td>\n",
              "      <td>6.0</td>\n",
              "      <td>197</td>\n",
              "    </tr>\n",
              "    <tr>\n",
              "      <th>2</th>\n",
              "      <td>tt0000003</td>\n",
              "      <td>6.5</td>\n",
              "      <td>1285</td>\n",
              "    </tr>\n",
              "    <tr>\n",
              "      <th>3</th>\n",
              "      <td>tt0000004</td>\n",
              "      <td>6.1</td>\n",
              "      <td>121</td>\n",
              "    </tr>\n",
              "    <tr>\n",
              "      <th>4</th>\n",
              "      <td>tt0000005</td>\n",
              "      <td>6.1</td>\n",
              "      <td>2050</td>\n",
              "    </tr>\n",
              "  </tbody>\n",
              "</table>\n",
              "</div>"
            ],
            "text/plain": [
              "      tconst  averageRating  numVotes\n",
              "0  tt0000001            5.6      1608\n",
              "1  tt0000002            6.0       197\n",
              "2  tt0000003            6.5      1285\n",
              "3  tt0000004            6.1       121\n",
              "4  tt0000005            6.1      2050"
            ]
          },
          "metadata": {
            "tags": []
          },
          "execution_count": 2
        }
      ]
    },
    {
      "cell_type": "code",
      "metadata": {
        "colab": {
          "base_uri": "https://localhost:8080/",
          "height": 241
        },
        "id": "NQkLTRBwAzLu",
        "outputId": "ac9210ee-7b58-4a43-d011-4685911df8d5"
      },
      "source": [
        "movie_df.head()"
      ],
      "execution_count": 3,
      "outputs": [
        {
          "output_type": "execute_result",
          "data": {
            "text/html": [
              "<div>\n",
              "<style scoped>\n",
              "    .dataframe tbody tr th:only-of-type {\n",
              "        vertical-align: middle;\n",
              "    }\n",
              "\n",
              "    .dataframe tbody tr th {\n",
              "        vertical-align: top;\n",
              "    }\n",
              "\n",
              "    .dataframe thead th {\n",
              "        text-align: right;\n",
              "    }\n",
              "</style>\n",
              "<table border=\"1\" class=\"dataframe\">\n",
              "  <thead>\n",
              "    <tr style=\"text-align: right;\">\n",
              "      <th></th>\n",
              "      <th>tconst</th>\n",
              "      <th>titleType</th>\n",
              "      <th>primaryTitle</th>\n",
              "      <th>originalTitle</th>\n",
              "      <th>isAdult</th>\n",
              "      <th>startYear</th>\n",
              "      <th>endYear</th>\n",
              "      <th>runtimeMinutes</th>\n",
              "      <th>genres</th>\n",
              "    </tr>\n",
              "  </thead>\n",
              "  <tbody>\n",
              "    <tr>\n",
              "      <th>0</th>\n",
              "      <td>tt0221078</td>\n",
              "      <td>short</td>\n",
              "      <td>Circle Dance, Ute Indians</td>\n",
              "      <td>Circle Dance, Ute Indians</td>\n",
              "      <td>0</td>\n",
              "      <td>1898</td>\n",
              "      <td>\\N</td>\n",
              "      <td>\\N</td>\n",
              "      <td>Documentary,Short</td>\n",
              "    </tr>\n",
              "    <tr>\n",
              "      <th>1</th>\n",
              "      <td>tt8862466</td>\n",
              "      <td>tvEpisode</td>\n",
              "      <td>¡El #TeamOsos va con todo al \"Reality del amor\"!</td>\n",
              "      <td>¡El #TeamOsos va con todo al \"Reality del amor\"!</td>\n",
              "      <td>0</td>\n",
              "      <td>2018</td>\n",
              "      <td>\\N</td>\n",
              "      <td>\\N</td>\n",
              "      <td>Comedy,Drama</td>\n",
              "    </tr>\n",
              "    <tr>\n",
              "      <th>2</th>\n",
              "      <td>tt7157720</td>\n",
              "      <td>tvEpisode</td>\n",
              "      <td>Episode #3.41</td>\n",
              "      <td>Episode #3.41</td>\n",
              "      <td>0</td>\n",
              "      <td>2016</td>\n",
              "      <td>\\N</td>\n",
              "      <td>29</td>\n",
              "      <td>Comedy,Game-Show</td>\n",
              "    </tr>\n",
              "    <tr>\n",
              "      <th>3</th>\n",
              "      <td>tt2974998</td>\n",
              "      <td>tvEpisode</td>\n",
              "      <td>Episode dated 16 May 1987</td>\n",
              "      <td>Episode dated 16 May 1987</td>\n",
              "      <td>0</td>\n",
              "      <td>1987</td>\n",
              "      <td>\\N</td>\n",
              "      <td>\\N</td>\n",
              "      <td>News</td>\n",
              "    </tr>\n",
              "    <tr>\n",
              "      <th>4</th>\n",
              "      <td>tt2903620</td>\n",
              "      <td>tvEpisode</td>\n",
              "      <td>Frances Bavier: Aunt Bee Retires</td>\n",
              "      <td>Frances Bavier: Aunt Bee Retires</td>\n",
              "      <td>0</td>\n",
              "      <td>1973</td>\n",
              "      <td>\\N</td>\n",
              "      <td>\\N</td>\n",
              "      <td>Documentary</td>\n",
              "    </tr>\n",
              "  </tbody>\n",
              "</table>\n",
              "</div>"
            ],
            "text/plain": [
              "      tconst  titleType  ... runtimeMinutes             genres\n",
              "0  tt0221078      short  ...             \\N  Documentary,Short\n",
              "1  tt8862466  tvEpisode  ...             \\N       Comedy,Drama\n",
              "2  tt7157720  tvEpisode  ...             29   Comedy,Game-Show\n",
              "3  tt2974998  tvEpisode  ...             \\N               News\n",
              "4  tt2903620  tvEpisode  ...             \\N        Documentary\n",
              "\n",
              "[5 rows x 9 columns]"
            ]
          },
          "metadata": {
            "tags": []
          },
          "execution_count": 3
        }
      ]
    },
    {
      "cell_type": "code",
      "metadata": {
        "colab": {
          "base_uri": "https://localhost:8080/"
        },
        "id": "OVOEvgriCFp1",
        "outputId": "8dac75ff-a213-401c-96e6-6616698fb0c1"
      },
      "source": [
        "movie_df.info()"
      ],
      "execution_count": 4,
      "outputs": [
        {
          "output_type": "stream",
          "text": [
            "<class 'pandas.core.frame.DataFrame'>\n",
            "RangeIndex: 9025 entries, 0 to 9024\n",
            "Data columns (total 9 columns):\n",
            " #   Column          Non-Null Count  Dtype \n",
            "---  ------          --------------  ----- \n",
            " 0   tconst          9025 non-null   object\n",
            " 1   titleType       9025 non-null   object\n",
            " 2   primaryTitle    9011 non-null   object\n",
            " 3   originalTitle   9011 non-null   object\n",
            " 4   isAdult         9025 non-null   int64 \n",
            " 5   startYear       9025 non-null   object\n",
            " 6   endYear         9025 non-null   object\n",
            " 7   runtimeMinutes  9025 non-null   object\n",
            " 8   genres          9014 non-null   object\n",
            "dtypes: int64(1), object(8)\n",
            "memory usage: 634.7+ KB\n"
          ],
          "name": "stdout"
        }
      ]
    },
    {
      "cell_type": "code",
      "metadata": {
        "colab": {
          "base_uri": "https://localhost:8080/"
        },
        "id": "ToFvl8RRCGYU",
        "outputId": "a64ba77e-8bda-4899-f77d-19996e9679c9"
      },
      "source": [
        "movie_df.isnull().sum()"
      ],
      "execution_count": 5,
      "outputs": [
        {
          "output_type": "execute_result",
          "data": {
            "text/plain": [
              "tconst             0\n",
              "titleType          0\n",
              "primaryTitle      14\n",
              "originalTitle     14\n",
              "isAdult            0\n",
              "startYear          0\n",
              "endYear            0\n",
              "runtimeMinutes     0\n",
              "genres            11\n",
              "dtype: int64"
            ]
          },
          "metadata": {
            "tags": []
          },
          "execution_count": 5
        }
      ]
    },
    {
      "cell_type": "code",
      "metadata": {
        "colab": {
          "base_uri": "https://localhost:8080/",
          "height": 489
        },
        "id": "0r92L04PEmIP",
        "outputId": "a5560012-a7b3-478a-d2d5-48f3afc963f3"
      },
      "source": [
        "movie_df.loc[(movie_df['primaryTitle'].isnull()) | (movie_df['originalTitle'].isnull())]"
      ],
      "execution_count": 6,
      "outputs": [
        {
          "output_type": "execute_result",
          "data": {
            "text/html": [
              "<div>\n",
              "<style scoped>\n",
              "    .dataframe tbody tr th:only-of-type {\n",
              "        vertical-align: middle;\n",
              "    }\n",
              "\n",
              "    .dataframe tbody tr th {\n",
              "        vertical-align: top;\n",
              "    }\n",
              "\n",
              "    .dataframe thead th {\n",
              "        text-align: right;\n",
              "    }\n",
              "</style>\n",
              "<table border=\"1\" class=\"dataframe\">\n",
              "  <thead>\n",
              "    <tr style=\"text-align: right;\">\n",
              "      <th></th>\n",
              "      <th>tconst</th>\n",
              "      <th>titleType</th>\n",
              "      <th>primaryTitle</th>\n",
              "      <th>originalTitle</th>\n",
              "      <th>isAdult</th>\n",
              "      <th>startYear</th>\n",
              "      <th>endYear</th>\n",
              "      <th>runtimeMinutes</th>\n",
              "      <th>genres</th>\n",
              "    </tr>\n",
              "  </thead>\n",
              "  <tbody>\n",
              "    <tr>\n",
              "      <th>9000</th>\n",
              "      <td>tt10790040</td>\n",
              "      <td>tvEpisode</td>\n",
              "      <td>NaN</td>\n",
              "      <td>NaN</td>\n",
              "      <td>0</td>\n",
              "      <td>2019</td>\n",
              "      <td>\\N</td>\n",
              "      <td>\\N</td>\n",
              "      <td>\\N</td>\n",
              "    </tr>\n",
              "    <tr>\n",
              "      <th>9001</th>\n",
              "      <td>tt10891902</td>\n",
              "      <td>tvEpisode</td>\n",
              "      <td>NaN</td>\n",
              "      <td>NaN</td>\n",
              "      <td>0</td>\n",
              "      <td>2020</td>\n",
              "      <td>\\N</td>\n",
              "      <td>\\N</td>\n",
              "      <td>Crime</td>\n",
              "    </tr>\n",
              "    <tr>\n",
              "      <th>9002</th>\n",
              "      <td>tt11737860</td>\n",
              "      <td>tvEpisode</td>\n",
              "      <td>NaN</td>\n",
              "      <td>NaN</td>\n",
              "      <td>0</td>\n",
              "      <td>2020</td>\n",
              "      <td>\\N</td>\n",
              "      <td>\\N</td>\n",
              "      <td>Comedy,Drama,Romance</td>\n",
              "    </tr>\n",
              "    <tr>\n",
              "      <th>9003</th>\n",
              "      <td>tt11737862</td>\n",
              "      <td>tvEpisode</td>\n",
              "      <td>NaN</td>\n",
              "      <td>NaN</td>\n",
              "      <td>0</td>\n",
              "      <td>2020</td>\n",
              "      <td>\\N</td>\n",
              "      <td>\\N</td>\n",
              "      <td>Comedy,Drama,Romance</td>\n",
              "    </tr>\n",
              "    <tr>\n",
              "      <th>9004</th>\n",
              "      <td>tt11737866</td>\n",
              "      <td>tvEpisode</td>\n",
              "      <td>NaN</td>\n",
              "      <td>NaN</td>\n",
              "      <td>0</td>\n",
              "      <td>2020</td>\n",
              "      <td>\\N</td>\n",
              "      <td>\\N</td>\n",
              "      <td>Comedy,Drama,Romance</td>\n",
              "    </tr>\n",
              "    <tr>\n",
              "      <th>9005</th>\n",
              "      <td>tt11737872</td>\n",
              "      <td>tvEpisode</td>\n",
              "      <td>NaN</td>\n",
              "      <td>NaN</td>\n",
              "      <td>0</td>\n",
              "      <td>2020</td>\n",
              "      <td>\\N</td>\n",
              "      <td>\\N</td>\n",
              "      <td>\\N</td>\n",
              "    </tr>\n",
              "    <tr>\n",
              "      <th>9006</th>\n",
              "      <td>tt11737874</td>\n",
              "      <td>tvEpisode</td>\n",
              "      <td>NaN</td>\n",
              "      <td>NaN</td>\n",
              "      <td>0</td>\n",
              "      <td>2020</td>\n",
              "      <td>\\N</td>\n",
              "      <td>\\N</td>\n",
              "      <td>Comedy,Drama,Romance</td>\n",
              "    </tr>\n",
              "    <tr>\n",
              "      <th>9007</th>\n",
              "      <td>tt1971246</td>\n",
              "      <td>tvEpisode</td>\n",
              "      <td>NaN</td>\n",
              "      <td>NaN</td>\n",
              "      <td>0</td>\n",
              "      <td>2011</td>\n",
              "      <td>\\N</td>\n",
              "      <td>\\N</td>\n",
              "      <td>Biography</td>\n",
              "    </tr>\n",
              "    <tr>\n",
              "      <th>9008</th>\n",
              "      <td>tt2067043</td>\n",
              "      <td>tvEpisode</td>\n",
              "      <td>NaN</td>\n",
              "      <td>NaN</td>\n",
              "      <td>0</td>\n",
              "      <td>1965</td>\n",
              "      <td>\\N</td>\n",
              "      <td>\\N</td>\n",
              "      <td>Music</td>\n",
              "    </tr>\n",
              "    <tr>\n",
              "      <th>9009</th>\n",
              "      <td>tt4404732</td>\n",
              "      <td>tvEpisode</td>\n",
              "      <td>NaN</td>\n",
              "      <td>NaN</td>\n",
              "      <td>0</td>\n",
              "      <td>2015</td>\n",
              "      <td>\\N</td>\n",
              "      <td>\\N</td>\n",
              "      <td>Comedy</td>\n",
              "    </tr>\n",
              "    <tr>\n",
              "      <th>9010</th>\n",
              "      <td>tt5773048</td>\n",
              "      <td>tvEpisode</td>\n",
              "      <td>NaN</td>\n",
              "      <td>NaN</td>\n",
              "      <td>0</td>\n",
              "      <td>2015</td>\n",
              "      <td>\\N</td>\n",
              "      <td>\\N</td>\n",
              "      <td>Talk-Show</td>\n",
              "    </tr>\n",
              "    <tr>\n",
              "      <th>9011</th>\n",
              "      <td>tt8473688</td>\n",
              "      <td>tvEpisode</td>\n",
              "      <td>NaN</td>\n",
              "      <td>NaN</td>\n",
              "      <td>0</td>\n",
              "      <td>1987</td>\n",
              "      <td>\\N</td>\n",
              "      <td>\\N</td>\n",
              "      <td>Drama</td>\n",
              "    </tr>\n",
              "    <tr>\n",
              "      <th>9012</th>\n",
              "      <td>tt8541336</td>\n",
              "      <td>tvEpisode</td>\n",
              "      <td>NaN</td>\n",
              "      <td>NaN</td>\n",
              "      <td>0</td>\n",
              "      <td>2018</td>\n",
              "      <td>\\N</td>\n",
              "      <td>\\N</td>\n",
              "      <td>Reality-TV,Romance</td>\n",
              "    </tr>\n",
              "    <tr>\n",
              "      <th>9013</th>\n",
              "      <td>tt9824302</td>\n",
              "      <td>tvEpisode</td>\n",
              "      <td>NaN</td>\n",
              "      <td>NaN</td>\n",
              "      <td>0</td>\n",
              "      <td>2016</td>\n",
              "      <td>\\N</td>\n",
              "      <td>\\N</td>\n",
              "      <td>Documentary</td>\n",
              "    </tr>\n",
              "  </tbody>\n",
              "</table>\n",
              "</div>"
            ],
            "text/plain": [
              "          tconst  titleType  ... runtimeMinutes                genres\n",
              "9000  tt10790040  tvEpisode  ...             \\N                    \\N\n",
              "9001  tt10891902  tvEpisode  ...             \\N                 Crime\n",
              "9002  tt11737860  tvEpisode  ...             \\N  Comedy,Drama,Romance\n",
              "9003  tt11737862  tvEpisode  ...             \\N  Comedy,Drama,Romance\n",
              "9004  tt11737866  tvEpisode  ...             \\N  Comedy,Drama,Romance\n",
              "9005  tt11737872  tvEpisode  ...             \\N                    \\N\n",
              "9006  tt11737874  tvEpisode  ...             \\N  Comedy,Drama,Romance\n",
              "9007   tt1971246  tvEpisode  ...             \\N             Biography\n",
              "9008   tt2067043  tvEpisode  ...             \\N                 Music\n",
              "9009   tt4404732  tvEpisode  ...             \\N                Comedy\n",
              "9010   tt5773048  tvEpisode  ...             \\N             Talk-Show\n",
              "9011   tt8473688  tvEpisode  ...             \\N                 Drama\n",
              "9012   tt8541336  tvEpisode  ...             \\N    Reality-TV,Romance\n",
              "9013   tt9824302  tvEpisode  ...             \\N           Documentary\n",
              "\n",
              "[14 rows x 9 columns]"
            ]
          },
          "metadata": {
            "tags": []
          },
          "execution_count": 6
        }
      ]
    },
    {
      "cell_type": "code",
      "metadata": {
        "colab": {
          "base_uri": "https://localhost:8080/"
        },
        "id": "HOXY14MVGXsS",
        "outputId": "60f7ac2b-e76c-42f5-9d31-0ef5ca06348c"
      },
      "source": [
        "len(movie_df)"
      ],
      "execution_count": 7,
      "outputs": [
        {
          "output_type": "execute_result",
          "data": {
            "text/plain": [
              "9025"
            ]
          },
          "metadata": {
            "tags": []
          },
          "execution_count": 7
        }
      ]
    },
    {
      "cell_type": "code",
      "metadata": {
        "colab": {
          "base_uri": "https://localhost:8080/"
        },
        "id": "WdgFQ50YGY9r",
        "outputId": "9e0561a4-6630-4470-ce8c-539d0a46db56"
      },
      "source": [
        "movie_df = movie_df.loc[(movie_df['primaryTitle'].notnull()) & (movie_df['originalTitle'].notnull())]\n",
        "len(movie_df)"
      ],
      "execution_count": 8,
      "outputs": [
        {
          "output_type": "execute_result",
          "data": {
            "text/plain": [
              "9011"
            ]
          },
          "metadata": {
            "tags": []
          },
          "execution_count": 8
        }
      ]
    },
    {
      "cell_type": "code",
      "metadata": {
        "colab": {
          "base_uri": "https://localhost:8080/",
          "height": 394
        },
        "id": "NdDHVhv4GhJz",
        "outputId": "7ba24dc7-2332-41be-977f-9c822fd136bb"
      },
      "source": [
        "movie_df.loc[movie_df['genres'].isnull()]"
      ],
      "execution_count": 9,
      "outputs": [
        {
          "output_type": "execute_result",
          "data": {
            "text/html": [
              "<div>\n",
              "<style scoped>\n",
              "    .dataframe tbody tr th:only-of-type {\n",
              "        vertical-align: middle;\n",
              "    }\n",
              "\n",
              "    .dataframe tbody tr th {\n",
              "        vertical-align: top;\n",
              "    }\n",
              "\n",
              "    .dataframe thead th {\n",
              "        text-align: right;\n",
              "    }\n",
              "</style>\n",
              "<table border=\"1\" class=\"dataframe\">\n",
              "  <thead>\n",
              "    <tr style=\"text-align: right;\">\n",
              "      <th></th>\n",
              "      <th>tconst</th>\n",
              "      <th>titleType</th>\n",
              "      <th>primaryTitle</th>\n",
              "      <th>originalTitle</th>\n",
              "      <th>isAdult</th>\n",
              "      <th>startYear</th>\n",
              "      <th>endYear</th>\n",
              "      <th>runtimeMinutes</th>\n",
              "      <th>genres</th>\n",
              "    </tr>\n",
              "  </thead>\n",
              "  <tbody>\n",
              "    <tr>\n",
              "      <th>9014</th>\n",
              "      <td>tt10233364</td>\n",
              "      <td>tvEpisode</td>\n",
              "      <td>Rolling in the Deep Dish\\tRolling in the Deep ...</td>\n",
              "      <td>0</td>\n",
              "      <td>2019</td>\n",
              "      <td>\\N</td>\n",
              "      <td>\\N</td>\n",
              "      <td>Reality-TV</td>\n",
              "      <td>NaN</td>\n",
              "    </tr>\n",
              "    <tr>\n",
              "      <th>9015</th>\n",
              "      <td>tt10925142</td>\n",
              "      <td>tvEpisode</td>\n",
              "      <td>The IMDb Show on Location: Star Wars Galaxy's ...</td>\n",
              "      <td>0</td>\n",
              "      <td>2019</td>\n",
              "      <td>\\N</td>\n",
              "      <td>\\N</td>\n",
              "      <td>Talk-Show</td>\n",
              "      <td>NaN</td>\n",
              "    </tr>\n",
              "    <tr>\n",
              "      <th>9016</th>\n",
              "      <td>tt10970874</td>\n",
              "      <td>tvEpisode</td>\n",
              "      <td>Die Bauhaus-Stadt Tel Aviv - Vorbild für die M...</td>\n",
              "      <td>0</td>\n",
              "      <td>2019</td>\n",
              "      <td>\\N</td>\n",
              "      <td>\\N</td>\n",
              "      <td>\\N</td>\n",
              "      <td>NaN</td>\n",
              "    </tr>\n",
              "    <tr>\n",
              "      <th>9017</th>\n",
              "      <td>tt11670006</td>\n",
              "      <td>tvEpisode</td>\n",
              "      <td>...ein angenehmer Unbequemer...\\t...ein angene...</td>\n",
              "      <td>0</td>\n",
              "      <td>1981</td>\n",
              "      <td>\\N</td>\n",
              "      <td>\\N</td>\n",
              "      <td>Documentary</td>\n",
              "      <td>NaN</td>\n",
              "    </tr>\n",
              "    <tr>\n",
              "      <th>9018</th>\n",
              "      <td>tt11868642</td>\n",
              "      <td>tvEpisode</td>\n",
              "      <td>GGN Heavyweight Championship Lungs With Mike T...</td>\n",
              "      <td>0</td>\n",
              "      <td>2020</td>\n",
              "      <td>\\N</td>\n",
              "      <td>\\N</td>\n",
              "      <td>Talk-Show</td>\n",
              "      <td>NaN</td>\n",
              "    </tr>\n",
              "    <tr>\n",
              "      <th>9019</th>\n",
              "      <td>tt2347742</td>\n",
              "      <td>tvEpisode</td>\n",
              "      <td>No sufras por la alergia esta primavera\\tNo su...</td>\n",
              "      <td>0</td>\n",
              "      <td>2004</td>\n",
              "      <td>\\N</td>\n",
              "      <td>\\N</td>\n",
              "      <td>\\N</td>\n",
              "      <td>NaN</td>\n",
              "    </tr>\n",
              "    <tr>\n",
              "      <th>9020</th>\n",
              "      <td>tt3984412</td>\n",
              "      <td>tvEpisode</td>\n",
              "      <td>I'm Not Going to Come Last, I'm Just Going to ...</td>\n",
              "      <td>0</td>\n",
              "      <td>2014</td>\n",
              "      <td>\\N</td>\n",
              "      <td>\\N</td>\n",
              "      <td>Reality-TV</td>\n",
              "      <td>NaN</td>\n",
              "    </tr>\n",
              "    <tr>\n",
              "      <th>9021</th>\n",
              "      <td>tt8740950</td>\n",
              "      <td>tvEpisode</td>\n",
              "      <td>Weight Loss Resolution Restart - Ins &amp; Outs of...</td>\n",
              "      <td>0</td>\n",
              "      <td>2015</td>\n",
              "      <td>\\N</td>\n",
              "      <td>\\N</td>\n",
              "      <td>Reality-TV</td>\n",
              "      <td>NaN</td>\n",
              "    </tr>\n",
              "    <tr>\n",
              "      <th>9022</th>\n",
              "      <td>tt9822816</td>\n",
              "      <td>tvEpisode</td>\n",
              "      <td>Zwischen Vertuschung und Aufklärung - Missbrau...</td>\n",
              "      <td>0</td>\n",
              "      <td>2019</td>\n",
              "      <td>\\N</td>\n",
              "      <td>\\N</td>\n",
              "      <td>\\N</td>\n",
              "      <td>NaN</td>\n",
              "    </tr>\n",
              "    <tr>\n",
              "      <th>9023</th>\n",
              "      <td>tt9900062</td>\n",
              "      <td>tvEpisode</td>\n",
              "      <td>The Direction of Yuu's Love: Hings Aren't Goin...</td>\n",
              "      <td>0</td>\n",
              "      <td>1994</td>\n",
              "      <td>\\N</td>\n",
              "      <td>\\N</td>\n",
              "      <td>Animation,Comedy,Drama</td>\n",
              "      <td>NaN</td>\n",
              "    </tr>\n",
              "    <tr>\n",
              "      <th>9024</th>\n",
              "      <td>tt9909210</td>\n",
              "      <td>tvEpisode</td>\n",
              "      <td>Politik und/oder Moral - Wie weit geht das Ver...</td>\n",
              "      <td>0</td>\n",
              "      <td>2005</td>\n",
              "      <td>\\N</td>\n",
              "      <td>\\N</td>\n",
              "      <td>\\N</td>\n",
              "      <td>NaN</td>\n",
              "    </tr>\n",
              "  </tbody>\n",
              "</table>\n",
              "</div>"
            ],
            "text/plain": [
              "          tconst  titleType  ...          runtimeMinutes genres\n",
              "9014  tt10233364  tvEpisode  ...              Reality-TV    NaN\n",
              "9015  tt10925142  tvEpisode  ...               Talk-Show    NaN\n",
              "9016  tt10970874  tvEpisode  ...                      \\N    NaN\n",
              "9017  tt11670006  tvEpisode  ...             Documentary    NaN\n",
              "9018  tt11868642  tvEpisode  ...               Talk-Show    NaN\n",
              "9019   tt2347742  tvEpisode  ...                      \\N    NaN\n",
              "9020   tt3984412  tvEpisode  ...              Reality-TV    NaN\n",
              "9021   tt8740950  tvEpisode  ...              Reality-TV    NaN\n",
              "9022   tt9822816  tvEpisode  ...                      \\N    NaN\n",
              "9023   tt9900062  tvEpisode  ...  Animation,Comedy,Drama    NaN\n",
              "9024   tt9909210  tvEpisode  ...                      \\N    NaN\n",
              "\n",
              "[11 rows x 9 columns]"
            ]
          },
          "metadata": {
            "tags": []
          },
          "execution_count": 9
        }
      ]
    },
    {
      "cell_type": "code",
      "metadata": {
        "colab": {
          "base_uri": "https://localhost:8080/"
        },
        "id": "IW-VVaJ2GsN7",
        "outputId": "b8f1c3a4-56e3-4df1-c368-925a0728366f"
      },
      "source": [
        "movie_df = movie_df.loc[movie_df['genres'].notnull()]\n",
        "len(movie_df)"
      ],
      "execution_count": 10,
      "outputs": [
        {
          "output_type": "execute_result",
          "data": {
            "text/plain": [
              "9000"
            ]
          },
          "metadata": {
            "tags": []
          },
          "execution_count": 10
        }
      ]
    },
    {
      "cell_type": "code",
      "metadata": {
        "colab": {
          "base_uri": "https://localhost:8080/"
        },
        "id": "uR6Mdft5GyWY",
        "outputId": "be182109-f66b-421d-9d83-e7c8c0725362"
      },
      "source": [
        "movie_df['startYear'] = movie_df['startYear'].replace('\\\\N', np.nan)\n",
        "movie_df['startYear'] = movie_df['startYear'].astype('float64')\n",
        "movie_df['startYear'].unique()[:5]"
      ],
      "execution_count": 11,
      "outputs": [
        {
          "output_type": "execute_result",
          "data": {
            "text/plain": [
              "array([1898., 2018., 2016., 1987., 1973.])"
            ]
          },
          "metadata": {
            "tags": []
          },
          "execution_count": 11
        }
      ]
    },
    {
      "cell_type": "code",
      "metadata": {
        "colab": {
          "base_uri": "https://localhost:8080/"
        },
        "id": "IqccEN_2G_Bz",
        "outputId": "28926c9b-f7dd-42d7-8ca0-29fb6aadd933"
      },
      "source": [
        "movie_df['endYear'] = movie_df['endYear'].replace('\\\\N', np.nan)\n",
        "movie_df['endYear'] = movie_df['endYear'].astype('float64')\n",
        "movie_df['endYear'].unique()[:5]"
      ],
      "execution_count": 12,
      "outputs": [
        {
          "output_type": "execute_result",
          "data": {
            "text/plain": [
              "array([  nan, 2005., 1955., 2006., 1999.])"
            ]
          },
          "metadata": {
            "tags": []
          },
          "execution_count": 12
        }
      ]
    },
    {
      "cell_type": "code",
      "metadata": {
        "colab": {
          "base_uri": "https://localhost:8080/"
        },
        "id": "_z52ZGq4HCVA",
        "outputId": "e732c0d5-7dd0-4ee3-fa32-c445e9fe3495"
      },
      "source": [
        "movie_df['runtimeMinutes'] = movie_df['runtimeMinutes'].replace('\\\\N', np.nan)\n",
        "movie_df['runtimeMinutes'] = movie_df['runtimeMinutes'].astype('float64')\n",
        "movie_df['runtimeMinutes'].unique()[:5]"
      ],
      "execution_count": 13,
      "outputs": [
        {
          "output_type": "execute_result",
          "data": {
            "text/plain": [
              "array([nan, 29.,  7., 23., 85.])"
            ]
          },
          "metadata": {
            "tags": []
          },
          "execution_count": 13
        }
      ]
    },
    {
      "cell_type": "code",
      "metadata": {
        "id": "MYKtZFTSHGdU"
      },
      "source": [
        "def transform_to_list(x):\n",
        "    if ',' in x: \n",
        "        return x.split(',')\n",
        "    else: \n",
        "        return []"
      ],
      "execution_count": 14,
      "outputs": []
    },
    {
      "cell_type": "code",
      "metadata": {
        "id": "JeoAmC8hHNSj"
      },
      "source": [
        "movie_df['genres'] = movie_df['genres'].apply(lambda x: transform_to_list(x))"
      ],
      "execution_count": 15,
      "outputs": []
    },
    {
      "cell_type": "code",
      "metadata": {
        "colab": {
          "base_uri": "https://localhost:8080/"
        },
        "id": "-2y5F9LeHOXS",
        "outputId": "6cd36667-b91a-4616-cf57-4376eada9982"
      },
      "source": [
        "movie_df['genres'].head()"
      ],
      "execution_count": 16,
      "outputs": [
        {
          "output_type": "execute_result",
          "data": {
            "text/plain": [
              "0    [Documentary, Short]\n",
              "1         [Comedy, Drama]\n",
              "2     [Comedy, Game-Show]\n",
              "3                      []\n",
              "4                      []\n",
              "Name: genres, dtype: object"
            ]
          },
          "metadata": {
            "tags": []
          },
          "execution_count": 16
        }
      ]
    },
    {
      "cell_type": "code",
      "metadata": {
        "colab": {
          "base_uri": "https://localhost:8080/",
          "height": 206
        },
        "id": "Aefjpd14qyLE",
        "outputId": "365ae94c-0b24-4a64-8dea-b75248700738"
      },
      "source": [
        "rating_df.head()"
      ],
      "execution_count": 17,
      "outputs": [
        {
          "output_type": "execute_result",
          "data": {
            "text/html": [
              "<div>\n",
              "<style scoped>\n",
              "    .dataframe tbody tr th:only-of-type {\n",
              "        vertical-align: middle;\n",
              "    }\n",
              "\n",
              "    .dataframe tbody tr th {\n",
              "        vertical-align: top;\n",
              "    }\n",
              "\n",
              "    .dataframe thead th {\n",
              "        text-align: right;\n",
              "    }\n",
              "</style>\n",
              "<table border=\"1\" class=\"dataframe\">\n",
              "  <thead>\n",
              "    <tr style=\"text-align: right;\">\n",
              "      <th></th>\n",
              "      <th>tconst</th>\n",
              "      <th>averageRating</th>\n",
              "      <th>numVotes</th>\n",
              "    </tr>\n",
              "  </thead>\n",
              "  <tbody>\n",
              "    <tr>\n",
              "      <th>0</th>\n",
              "      <td>tt0000001</td>\n",
              "      <td>5.6</td>\n",
              "      <td>1608</td>\n",
              "    </tr>\n",
              "    <tr>\n",
              "      <th>1</th>\n",
              "      <td>tt0000002</td>\n",
              "      <td>6.0</td>\n",
              "      <td>197</td>\n",
              "    </tr>\n",
              "    <tr>\n",
              "      <th>2</th>\n",
              "      <td>tt0000003</td>\n",
              "      <td>6.5</td>\n",
              "      <td>1285</td>\n",
              "    </tr>\n",
              "    <tr>\n",
              "      <th>3</th>\n",
              "      <td>tt0000004</td>\n",
              "      <td>6.1</td>\n",
              "      <td>121</td>\n",
              "    </tr>\n",
              "    <tr>\n",
              "      <th>4</th>\n",
              "      <td>tt0000005</td>\n",
              "      <td>6.1</td>\n",
              "      <td>2050</td>\n",
              "    </tr>\n",
              "  </tbody>\n",
              "</table>\n",
              "</div>"
            ],
            "text/plain": [
              "      tconst  averageRating  numVotes\n",
              "0  tt0000001            5.6      1608\n",
              "1  tt0000002            6.0       197\n",
              "2  tt0000003            6.5      1285\n",
              "3  tt0000004            6.1       121\n",
              "4  tt0000005            6.1      2050"
            ]
          },
          "metadata": {
            "tags": []
          },
          "execution_count": 17
        }
      ]
    },
    {
      "cell_type": "code",
      "metadata": {
        "colab": {
          "base_uri": "https://localhost:8080/"
        },
        "id": "cwHnWiFaqzI7",
        "outputId": "7fd5effc-d692-4445-c03b-5f0168ebb9bb"
      },
      "source": [
        "rating_df.info()"
      ],
      "execution_count": 18,
      "outputs": [
        {
          "output_type": "stream",
          "text": [
            "<class 'pandas.core.frame.DataFrame'>\n",
            "RangeIndex: 1030009 entries, 0 to 1030008\n",
            "Data columns (total 3 columns):\n",
            " #   Column         Non-Null Count    Dtype  \n",
            "---  ------         --------------    -----  \n",
            " 0   tconst         1030009 non-null  object \n",
            " 1   averageRating  1030009 non-null  float64\n",
            " 2   numVotes       1030009 non-null  int64  \n",
            "dtypes: float64(1), int64(1), object(1)\n",
            "memory usage: 23.6+ MB\n"
          ],
          "name": "stdout"
        }
      ]
    },
    {
      "cell_type": "code",
      "metadata": {
        "colab": {
          "base_uri": "https://localhost:8080/"
        },
        "id": "-RMPkVXPrDcq",
        "outputId": "b38d050f-5c5a-43ce-8648-6ba887378e56"
      },
      "source": [
        "# Lakukan join pada kedua table\n",
        "movie_rating_df = pd.merge(movie_df, rating_df, on='tconst', how='inner')\n",
        "\n",
        "print(movie_rating_df.head())\n",
        "print(movie_rating_df.info())"
      ],
      "execution_count": 20,
      "outputs": [
        {
          "output_type": "stream",
          "text": [
            "      tconst  titleType  ... averageRating numVotes\n",
            "0  tt0043745      short  ...           7.1      459\n",
            "1  tt0167491      video  ...           5.7        7\n",
            "2  tt6574096  tvEpisode  ...           8.5      240\n",
            "3  tt6941700  tvEpisode  ...           8.0       11\n",
            "4  tt7305674      video  ...           9.7        7\n",
            "\n",
            "[5 rows x 11 columns]\n",
            "<class 'pandas.core.frame.DataFrame'>\n",
            "Int64Index: 1376 entries, 0 to 1375\n",
            "Data columns (total 11 columns):\n",
            " #   Column          Non-Null Count  Dtype  \n",
            "---  ------          --------------  -----  \n",
            " 0   tconst          1376 non-null   object \n",
            " 1   titleType       1376 non-null   object \n",
            " 2   primaryTitle    1376 non-null   object \n",
            " 3   originalTitle   1376 non-null   object \n",
            " 4   isAdult         1376 non-null   int64  \n",
            " 5   startYear       1376 non-null   float64\n",
            " 6   endYear         26 non-null     float64\n",
            " 7   runtimeMinutes  1004 non-null   float64\n",
            " 8   genres          1376 non-null   object \n",
            " 9   averageRating   1376 non-null   float64\n",
            " 10  numVotes        1376 non-null   int64  \n",
            "dtypes: float64(4), int64(2), object(5)\n",
            "memory usage: 129.0+ KB\n",
            "None\n"
          ],
          "name": "stdout"
        }
      ]
    },
    {
      "cell_type": "code",
      "metadata": {
        "colab": {
          "base_uri": "https://localhost:8080/"
        },
        "id": "u1Ewom5-rMTR",
        "outputId": "22d48f4c-a00e-4274-9291-86e29231976b"
      },
      "source": [
        "movie_rating_df = movie_rating_df.dropna(subset=['startYear','runtimeMinutes'])\n",
        "\n",
        "# Untuk memastikan tidak ada lagi nilai NULL\n",
        "movie_rating_df.info()"
      ],
      "execution_count": 21,
      "outputs": [
        {
          "output_type": "stream",
          "text": [
            "<class 'pandas.core.frame.DataFrame'>\n",
            "Int64Index: 1004 entries, 0 to 1374\n",
            "Data columns (total 11 columns):\n",
            " #   Column          Non-Null Count  Dtype  \n",
            "---  ------          --------------  -----  \n",
            " 0   tconst          1004 non-null   object \n",
            " 1   titleType       1004 non-null   object \n",
            " 2   primaryTitle    1004 non-null   object \n",
            " 3   originalTitle   1004 non-null   object \n",
            " 4   isAdult         1004 non-null   int64  \n",
            " 5   startYear       1004 non-null   float64\n",
            " 6   endYear         17 non-null     float64\n",
            " 7   runtimeMinutes  1004 non-null   float64\n",
            " 8   genres          1004 non-null   object \n",
            " 9   averageRating   1004 non-null   float64\n",
            " 10  numVotes        1004 non-null   int64  \n",
            "dtypes: float64(4), int64(2), object(5)\n",
            "memory usage: 94.1+ KB\n"
          ],
          "name": "stdout"
        }
      ]
    },
    {
      "cell_type": "code",
      "metadata": {
        "id": "oEEkZ34prVDz"
      },
      "source": [
        "C = movie_rating_df['averageRating'].mean()"
      ],
      "execution_count": 24,
      "outputs": []
    },
    {
      "cell_type": "code",
      "metadata": {
        "id": "gi_G0vN_rc35"
      },
      "source": [
        "m = movie_rating_df['numVotes'].quantile(0.8)"
      ],
      "execution_count": 25,
      "outputs": []
    },
    {
      "cell_type": "code",
      "metadata": {
        "colab": {
          "base_uri": "https://localhost:8080/"
        },
        "id": "CH1qEU0Grij6",
        "outputId": "191f8471-72d0-4dc7-ca4d-99cc17fddcb3"
      },
      "source": [
        "def imdb_weighted_rating(df, var=0.8):\n",
        "    v = df['numVotes']\n",
        "    R = df['averageRating']\n",
        "    C = df['averageRating'].mean()\n",
        "    m = df['numVotes'].quantile(var)\n",
        "    df['score'] = (v/(m+v))*R + (m/(m+v))*C # rumus IMDb \n",
        "    return df['score']\n",
        "    \n",
        "imdb_weighted_rating(movie_rating_df)\n",
        "\n",
        "# melakukan pengecekan dataframe\n",
        "print(movie_rating_df.head())"
      ],
      "execution_count": 26,
      "outputs": [
        {
          "output_type": "stream",
          "text": [
            "      tconst  titleType  ... numVotes     score\n",
            "0  tt0043745      short  ...      459  7.009992\n",
            "1  tt0167491      video  ...        7  6.796077\n",
            "2  tt6574096  tvEpisode  ...      240  7.684380\n",
            "5  tt2262289      movie  ...       27  6.921384\n",
            "6  tt0874027  tvEpisode  ...        8  6.869089\n",
            "\n",
            "[5 rows x 12 columns]\n"
          ],
          "name": "stdout"
        }
      ]
    },
    {
      "cell_type": "code",
      "metadata": {
        "colab": {
          "base_uri": "https://localhost:8080/"
        },
        "id": "ZwAKAUtWrtRa",
        "outputId": "e6b41a4f-1056-4d33-8756-6f057dfcc97d"
      },
      "source": [
        "def simple_recommender(df, top=100):\n",
        "    df = df.loc[df['numVotes'] >= m]\n",
        "    df = df.sort_values(by='score',ascending=False) #urutkan dari nilai tertinggi ke terendah\n",
        "    \n",
        "    df = df[:top]\n",
        "    return df\n",
        "      \n",
        "print(simple_recommender(movie_rating_df, top=25))"
      ],
      "execution_count": 27,
      "outputs": [
        {
          "output_type": "stream",
          "text": [
            "         tconst  titleType  ... numVotes     score\n",
            "68    tt4110822  tvEpisode  ...     3820  9.254624\n",
            "236   tt2200252      video  ...     1411  8.955045\n",
            "1181  tt7697962  tvEpisode  ...     1536  8.892450\n",
            "326   tt7124590  tvEpisode  ...     1859  8.850993\n",
            "1045  tt0533506  tvEpisode  ...     2740  8.740308\n",
            "71    tt8399426  tvEpisode  ...     1428  8.700045\n",
            "1234  tt2843830  tvEpisode  ...     1753  8.660784\n",
            "1087  tt4295140   tvSeries  ...    12056  8.566998\n",
            "1054  tt2503932  tvEpisode  ...     2495  8.451165\n",
            "448   tt0337566      video  ...     1343  8.256663\n",
            "624   tt0620159  tvEpisode  ...      401  8.020118\n",
            "1281  tt3166390  tvEpisode  ...      396  8.014679\n",
            "314   tt0954759  tvEpisode  ...     2766  8.002863\n",
            "189   tt5661506      video  ...      330  7.992798\n",
            "151   tt3954426  tvEpisode  ...      437  7.991253\n",
            "1344  tt6644294  tvEpisode  ...      812  7.976536\n",
            "1242  tt3677742  tvSpecial  ...     1931  7.965312\n",
            "1217  tt3642464  tvEpisode  ...      566  7.947641\n",
            "544   tt0734655  tvEpisode  ...     1559  7.937290\n",
            "49    tt9119838  tvEpisode  ...      263  7.936330\n",
            "357   tt4084774  tvEpisode  ...      289  7.928908\n",
            "1111  tt4174072  tvEpisode  ...     2898  7.914287\n",
            "790   tt4279086  tvEpisode  ...      823  7.901687\n",
            "972   tt0048028      movie  ...    38543  7.893678\n",
            "819   tt0032156      movie  ...     2974  7.823470\n",
            "\n",
            "[25 rows x 12 columns]\n"
          ],
          "name": "stdout"
        }
      ]
    },
    {
      "cell_type": "code",
      "metadata": {
        "colab": {
          "base_uri": "https://localhost:8080/"
        },
        "id": "gYh4RS-Zr1vD",
        "outputId": "a0127d93-7a1e-47a5-843f-021c2e2f2ea5"
      },
      "source": [
        "df = movie_rating_df.copy()\n",
        "\n",
        "def user_prefer_recommender(df, ask_adult, ask_start_year, ask_genre, top=100):\n",
        "    #ask_adult = yes/no\n",
        "    if ask_adult.lower() == 'yes':\n",
        "        df = df.loc[df['isAdult'] == 1]\n",
        "    elif ask_adult.lower() == 'no':\n",
        "        df = df.loc[df['isAdult'] == 0]\n",
        "\n",
        "    df = df.loc[df['startYear'] >= int(ask_start_year)]\n",
        "\n",
        "    # ask_genre = 'all' atau yang lain\n",
        "    if ask_genre.lower() == 'all':\n",
        "        df = df = df.loc[df['startYear'] >= int(ask_start_year)]\n",
        "    else:\n",
        "        def filter_genre(x):\n",
        "            if ask_genre.lower() in str(x).lower():\n",
        "                return True\n",
        "            else:\n",
        "                return False\n",
        "        df = df.loc[df['genres'].apply(lambda x: filter_genre(x))]\n",
        "\n",
        "    # Mengambil film dengan m yang lebih besar dibanding numVotes\n",
        "    df = df.loc[df['numVotes'] >= m ]\n",
        "    df = df.sort_values(by='score', ascending=False)\n",
        "    \n",
        "    df = df[:top]\n",
        "    return df\n",
        "\n",
        "print(user_prefer_recommender(df, ask_adult = 'no', ask_start_year = 2000, ask_genre = 'drama'))"
      ],
      "execution_count": 30,
      "outputs": [
        {
          "output_type": "stream",
          "text": [
            "          tconst  titleType  ... numVotes     score\n",
            "1368  tt11143130  tvEpisode  ...      132  7.842588\n",
            "1072   tt1285093  tvEpisode  ...      173  7.548443\n",
            "377    tt5502778  tvEpisode  ...      144  7.513068\n",
            "593    tt0629586  tvEpisode  ...      217  7.496355\n",
            "89     tt8528008  tvEpisode  ...      126  7.457956\n",
            "...          ...        ...  ...      ...       ...\n",
            "270    tt4535672      short  ...       14  6.804832\n",
            "812   tt11422924      movie  ...        5  6.803309\n",
            "478    tt2871088      short  ...        8  6.801579\n",
            "345    tt2076213      short  ...       35  6.799145\n",
            "269    tt2145676      movie  ...       19  6.796670\n",
            "\n",
            "[100 rows x 12 columns]\n"
          ],
          "name": "stdout"
        }
      ]
    }
  ]
}